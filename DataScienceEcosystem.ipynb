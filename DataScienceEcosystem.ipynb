{
 "cells": [
  {
   "cell_type": "markdown",
   "id": "d73d55f4-ceab-4d9e-bc26-9fe572ebd716",
   "metadata": {},
   "source": [
    "# Data Science Tools and Ecosystem"
   ]
  },
  {
   "cell_type": "markdown",
   "id": "e64063ff-def8-40a1-9091-dc82659233f4",
   "metadata": {},
   "source": [
    "In this notebook, Data Science Tools and Ecosystem are summarized."
   ]
  },
  {
   "cell_type": "markdown",
   "id": "949e8b1a-eb92-4b8c-baf6-7e6b75bb4adc",
   "metadata": {
    "tags": []
   },
   "source": [
    "## Author\n",
    "Naga Sai"
   ]
  },
  {
   "cell_type": "markdown",
   "id": "2ad54d77-49b1-4cbe-aec5-baa915aab2ba",
   "metadata": {},
   "source": [
    "**Objectives:**\n",
    "* List Popular Language for Data Science\n",
    "* List Commonly used libraries for Data Science\n",
    "* How to display table in the Markdown\n",
    "\n"
   ]
  },
  {
   "cell_type": "markdown",
   "id": "0fc7acd1-52ed-4aaa-85fa-508a0ef2fe9d",
   "metadata": {},
   "source": [
    "* Some of the popular languages that Data Scientists use are:\n",
    "1. Python\n",
    "2. R Programming Language\n",
    "3. SQL"
   ]
  },
  {
   "cell_type": "markdown",
   "id": "39784b92-2ae0-4d0a-8659-ddca4ce723c4",
   "metadata": {
    "tags": []
   },
   "source": [
    "* Some of the commonly used libraries used by Data Scientists include:\n",
    "1. Pandas\n",
    "2. Matplotlib\n",
    "3. Numpy\n",
    "4. Keras \n",
    "5. Seaborn"
   ]
  },
  {
   "cell_type": "markdown",
   "id": "21c27204-c426-4c24-bfaf-759863aa4bbe",
   "metadata": {
    "tags": []
   },
   "source": [
    "| Data Science Tools |\n",
    "| --- |\n",
    "| RStudio |\n",
    "| Apache Spark |\n",
    "| TensorFlow |"
   ]
  },
  {
   "cell_type": "markdown",
   "id": "46bd7015-45dd-4aaa-8621-07d347f673d1",
   "metadata": {
    "tags": []
   },
   "source": [
    "### Below are a few examples of evaluating arithmetic expressions in Python"
   ]
  },
  {
   "cell_type": "code",
   "execution_count": 8,
   "id": "d4180bc8-bba1-4d3c-9270-b937736d012e",
   "metadata": {
    "tags": []
   },
   "outputs": [
    {
     "data": {
      "text/plain": [
       "17"
      ]
     },
     "execution_count": 8,
     "metadata": {},
     "output_type": "execute_result"
    }
   ],
   "source": [
    "# This a simple arithmetic expression to mutiply then add integers\n",
    "(3*4)+5"
   ]
  },
  {
   "cell_type": "code",
   "execution_count": 10,
   "id": "80ef7396-dd24-4b48-853b-8f468442c3ad",
   "metadata": {
    "tags": []
   },
   "outputs": [
    {
     "data": {
      "text/plain": [
       "8"
      ]
     },
     "execution_count": 10,
     "metadata": {},
     "output_type": "execute_result"
    }
   ],
   "source": [
    "# This will convert 200 minutes to hours by diving by 60\n",
    "200 // 24"
   ]
  },
  {
   "cell_type": "code",
   "execution_count": null,
   "id": "5900489d-2bf8-4545-a17a-d37e228a19e2",
   "metadata": {},
   "outputs": [],
   "source": []
  },
  {
   "cell_type": "code",
   "execution_count": null,
   "id": "4ab23425-0a45-4bb8-a0ce-85492043a1d1",
   "metadata": {},
   "outputs": [],
   "source": []
  }
 ],
 "metadata": {
  "kernelspec": {
   "display_name": "Python",
   "language": "python",
   "name": "conda-env-python-py"
  },
  "language_info": {
   "codemirror_mode": {
    "name": "ipython",
    "version": 3
   },
   "file_extension": ".py",
   "mimetype": "text/x-python",
   "name": "python",
   "nbconvert_exporter": "python",
   "pygments_lexer": "ipython3",
   "version": "3.7.12"
  }
 },
 "nbformat": 4,
 "nbformat_minor": 5
}
